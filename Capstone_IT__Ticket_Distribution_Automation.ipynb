{
  "nbformat": 4,
  "nbformat_minor": 0,
  "metadata": {
    "colab": {
      "name": "Capstone_IT _Ticket_Distribution_Automation.ipynb",
      "provenance": [],
      "authorship_tag": "ABX9TyPr+cqzrfKRMAxs1U0nSgik",
      "include_colab_link": true
    },
    "kernelspec": {
      "name": "python3",
      "display_name": "Python 3"
    }
  },
  "cells": [
    {
      "cell_type": "markdown",
      "metadata": {
        "id": "view-in-github",
        "colab_type": "text"
      },
      "source": [
        "<a href=\"https://colab.research.google.com/github/sanglirama/nlp-capstone-project/blob/master/Capstone_IT__Ticket_Distribution_Automation.ipynb\" target=\"_parent\"><img src=\"https://colab.research.google.com/assets/colab-badge.svg\" alt=\"Open In Colab\"/></a>"
      ]
    },
    {
      "cell_type": "markdown",
      "metadata": {
        "id": "xynXLq85Tcd_",
        "colab_type": "text"
      },
      "source": [
        "**AUTOMATIC TICKET ASSIGNMENT**\n",
        "\n",
        "The Real Problem One of the key activities of any IT function is to “Keep the lights on” to ensure there is no impact to the Business operations. IT leverages Incident Management process to achieve the above Objective. An incident is something that is unplanned interruption to an IT service or reduction in the quality of an IT service that affects the Users and the Business. The main goal of Incident Management process is to provide a quick fix / workarounds or solutions that resolves the interruption and restores the service to its full capacity to ensure no business impact. \n",
        "\n",
        "Project Description\n",
        "In this capstone project, the goal is to build a classifier that can classify the tickets by analysing \n",
        "text.\n",
        "Details about the data and dataset files are given in below link,\n",
        "https://drive.google.com/file/d/1OZNJm81JXucV3HmZroMq6qCT2m7ez7IJ\n",
        "\n",
        "Milestone 1: Pre-Processing, Data Visualisation and EDA Overview\n",
        "\n",
        "*   Exploring the given Data files\n",
        "*   Understanding the structure of data\n",
        "*   Missing points in data\n",
        "*   Finding inconsistencies in the data\n",
        "*   Visualizing different patterns  \n",
        "*   Visualizing different text features\n",
        "*   Dealing with missing values\n"
      ]
    },
    {
      "cell_type": "code",
      "metadata": {
        "id": "DQjCSlSdVBF-",
        "colab_type": "code",
        "colab": {}
      },
      "source": [
        ""
      ],
      "execution_count": 0,
      "outputs": []
    },
    {
      "cell_type": "markdown",
      "metadata": {
        "id": "YaH9W6WYWb9z",
        "colab_type": "text"
      },
      "source": [
        "**Install the pre requisite libraries**"
      ]
    },
    {
      "cell_type": "code",
      "metadata": {
        "id": "sS1d0g3yXpZv",
        "colab_type": "code",
        "colab": {
          "base_uri": "https://localhost:8080/",
          "height": 471
        },
        "outputId": "a83e6c44-3926-4850-b0cc-dcd54b29b449"
      },
      "source": [
        "!pip install langdetect\n",
        "!pip install googletrans"
      ],
      "execution_count": 1,
      "outputs": [
        {
          "output_type": "stream",
          "text": [
            "Collecting langdetect\n",
            "\u001b[?25l  Downloading https://files.pythonhosted.org/packages/56/a3/8407c1e62d5980188b4acc45ef3d94b933d14a2ebc9ef3505f22cf772570/langdetect-1.0.8.tar.gz (981kB)\n",
            "\r\u001b[K     |▍                               | 10kB 22.9MB/s eta 0:00:01\r\u001b[K     |▊                               | 20kB 6.1MB/s eta 0:00:01\r\u001b[K     |█                               | 30kB 7.3MB/s eta 0:00:01\r\u001b[K     |█▍                              | 40kB 8.0MB/s eta 0:00:01\r\u001b[K     |█▊                              | 51kB 6.6MB/s eta 0:00:01\r\u001b[K     |██                              | 61kB 7.3MB/s eta 0:00:01\r\u001b[K     |██▍                             | 71kB 7.8MB/s eta 0:00:01\r\u001b[K     |██▊                             | 81kB 8.1MB/s eta 0:00:01\r\u001b[K     |███                             | 92kB 7.6MB/s eta 0:00:01\r\u001b[K     |███▍                            | 102kB 7.9MB/s eta 0:00:01\r\u001b[K     |███▊                            | 112kB 7.9MB/s eta 0:00:01\r\u001b[K     |████                            | 122kB 7.9MB/s eta 0:00:01\r\u001b[K     |████▍                           | 133kB 7.9MB/s eta 0:00:01\r\u001b[K     |████▊                           | 143kB 7.9MB/s eta 0:00:01\r\u001b[K     |█████                           | 153kB 7.9MB/s eta 0:00:01\r\u001b[K     |█████▍                          | 163kB 7.9MB/s eta 0:00:01\r\u001b[K     |█████▊                          | 174kB 7.9MB/s eta 0:00:01\r\u001b[K     |██████                          | 184kB 7.9MB/s eta 0:00:01\r\u001b[K     |██████▍                         | 194kB 7.9MB/s eta 0:00:01\r\u001b[K     |██████▊                         | 204kB 7.9MB/s eta 0:00:01\r\u001b[K     |███████                         | 215kB 7.9MB/s eta 0:00:01\r\u001b[K     |███████▍                        | 225kB 7.9MB/s eta 0:00:01\r\u001b[K     |███████▊                        | 235kB 7.9MB/s eta 0:00:01\r\u001b[K     |████████                        | 245kB 7.9MB/s eta 0:00:01\r\u001b[K     |████████▍                       | 256kB 7.9MB/s eta 0:00:01\r\u001b[K     |████████▊                       | 266kB 7.9MB/s eta 0:00:01\r\u001b[K     |█████████                       | 276kB 7.9MB/s eta 0:00:01\r\u001b[K     |█████████▍                      | 286kB 7.9MB/s eta 0:00:01\r\u001b[K     |█████████▊                      | 296kB 7.9MB/s eta 0:00:01\r\u001b[K     |██████████                      | 307kB 7.9MB/s eta 0:00:01\r\u001b[K     |██████████▍                     | 317kB 7.9MB/s eta 0:00:01\r\u001b[K     |██████████▊                     | 327kB 7.9MB/s eta 0:00:01\r\u001b[K     |███████████                     | 337kB 7.9MB/s eta 0:00:01\r\u001b[K     |███████████▍                    | 348kB 7.9MB/s eta 0:00:01\r\u001b[K     |███████████▊                    | 358kB 7.9MB/s eta 0:00:01\r\u001b[K     |████████████                    | 368kB 7.9MB/s eta 0:00:01\r\u001b[K     |████████████▍                   | 378kB 7.9MB/s eta 0:00:01\r\u001b[K     |████████████▊                   | 389kB 7.9MB/s eta 0:00:01\r\u001b[K     |█████████████                   | 399kB 7.9MB/s eta 0:00:01\r\u001b[K     |█████████████▍                  | 409kB 7.9MB/s eta 0:00:01\r\u001b[K     |█████████████▊                  | 419kB 7.9MB/s eta 0:00:01\r\u001b[K     |██████████████                  | 430kB 7.9MB/s eta 0:00:01\r\u001b[K     |██████████████▍                 | 440kB 7.9MB/s eta 0:00:01\r\u001b[K     |██████████████▊                 | 450kB 7.9MB/s eta 0:00:01\r\u001b[K     |███████████████                 | 460kB 7.9MB/s eta 0:00:01\r\u001b[K     |███████████████▍                | 471kB 7.9MB/s eta 0:00:01\r\u001b[K     |███████████████▊                | 481kB 7.9MB/s eta 0:00:01\r\u001b[K     |████████████████                | 491kB 7.9MB/s eta 0:00:01\r\u001b[K     |████████████████▍               | 501kB 7.9MB/s eta 0:00:01\r\u001b[K     |████████████████▊               | 512kB 7.9MB/s eta 0:00:01\r\u001b[K     |█████████████████               | 522kB 7.9MB/s eta 0:00:01\r\u001b[K     |█████████████████▍              | 532kB 7.9MB/s eta 0:00:01\r\u001b[K     |█████████████████▊              | 542kB 7.9MB/s eta 0:00:01\r\u001b[K     |██████████████████              | 552kB 7.9MB/s eta 0:00:01\r\u001b[K     |██████████████████▍             | 563kB 7.9MB/s eta 0:00:01\r\u001b[K     |██████████████████▊             | 573kB 7.9MB/s eta 0:00:01\r\u001b[K     |███████████████████             | 583kB 7.9MB/s eta 0:00:01\r\u001b[K     |███████████████████▍            | 593kB 7.9MB/s eta 0:00:01\r\u001b[K     |███████████████████▊            | 604kB 7.9MB/s eta 0:00:01\r\u001b[K     |████████████████████            | 614kB 7.9MB/s eta 0:00:01\r\u001b[K     |████████████████████▍           | 624kB 7.9MB/s eta 0:00:01\r\u001b[K     |████████████████████▊           | 634kB 7.9MB/s eta 0:00:01\r\u001b[K     |█████████████████████           | 645kB 7.9MB/s eta 0:00:01\r\u001b[K     |█████████████████████▍          | 655kB 7.9MB/s eta 0:00:01\r\u001b[K     |█████████████████████▊          | 665kB 7.9MB/s eta 0:00:01\r\u001b[K     |██████████████████████          | 675kB 7.9MB/s eta 0:00:01\r\u001b[K     |██████████████████████▍         | 686kB 7.9MB/s eta 0:00:01\r\u001b[K     |██████████████████████▊         | 696kB 7.9MB/s eta 0:00:01\r\u001b[K     |███████████████████████         | 706kB 7.9MB/s eta 0:00:01\r\u001b[K     |███████████████████████▍        | 716kB 7.9MB/s eta 0:00:01\r\u001b[K     |███████████████████████▊        | 727kB 7.9MB/s eta 0:00:01\r\u001b[K     |████████████████████████        | 737kB 7.9MB/s eta 0:00:01\r\u001b[K     |████████████████████████▍       | 747kB 7.9MB/s eta 0:00:01\r\u001b[K     |████████████████████████▊       | 757kB 7.9MB/s eta 0:00:01\r\u001b[K     |█████████████████████████       | 768kB 7.9MB/s eta 0:00:01\r\u001b[K     |█████████████████████████▍      | 778kB 7.9MB/s eta 0:00:01\r\u001b[K     |█████████████████████████▊      | 788kB 7.9MB/s eta 0:00:01\r\u001b[K     |██████████████████████████      | 798kB 7.9MB/s eta 0:00:01\r\u001b[K     |██████████████████████████▍     | 808kB 7.9MB/s eta 0:00:01\r\u001b[K     |██████████████████████████▊     | 819kB 7.9MB/s eta 0:00:01\r\u001b[K     |███████████████████████████     | 829kB 7.9MB/s eta 0:00:01\r\u001b[K     |███████████████████████████▍    | 839kB 7.9MB/s eta 0:00:01\r\u001b[K     |███████████████████████████▊    | 849kB 7.9MB/s eta 0:00:01\r\u001b[K     |████████████████████████████    | 860kB 7.9MB/s eta 0:00:01\r\u001b[K     |████████████████████████████▍   | 870kB 7.9MB/s eta 0:00:01\r\u001b[K     |████████████████████████████▊   | 880kB 7.9MB/s eta 0:00:01\r\u001b[K     |█████████████████████████████   | 890kB 7.9MB/s eta 0:00:01\r\u001b[K     |█████████████████████████████▍  | 901kB 7.9MB/s eta 0:00:01\r\u001b[K     |█████████████████████████████▊  | 911kB 7.9MB/s eta 0:00:01\r\u001b[K     |██████████████████████████████  | 921kB 7.9MB/s eta 0:00:01\r\u001b[K     |██████████████████████████████▍ | 931kB 7.9MB/s eta 0:00:01\r\u001b[K     |██████████████████████████████▊ | 942kB 7.9MB/s eta 0:00:01\r\u001b[K     |███████████████████████████████ | 952kB 7.9MB/s eta 0:00:01\r\u001b[K     |███████████████████████████████▍| 962kB 7.9MB/s eta 0:00:01\r\u001b[K     |███████████████████████████████▊| 972kB 7.9MB/s eta 0:00:01\r\u001b[K     |████████████████████████████████| 983kB 7.9MB/s \n",
            "\u001b[?25hRequirement already satisfied: six in /usr/local/lib/python3.6/dist-packages (from langdetect) (1.12.0)\n",
            "Building wheels for collected packages: langdetect\n",
            "  Building wheel for langdetect (setup.py) ... \u001b[?25l\u001b[?25hdone\n",
            "  Created wheel for langdetect: filename=langdetect-1.0.8-cp36-none-any.whl size=993193 sha256=84112f5f1ac4b7a360b7694be34db3c1713cf3cb9961268fae3c47dc9660ec4d\n",
            "  Stored in directory: /root/.cache/pip/wheels/8d/b3/aa/6d99de9f3841d7d3d40a60ea06e6d669e8e5012e6c8b947a57\n",
            "Successfully built langdetect\n",
            "Installing collected packages: langdetect\n",
            "Successfully installed langdetect-1.0.8\n",
            "Collecting googletrans\n",
            "  Downloading https://files.pythonhosted.org/packages/fd/f0/a22d41d3846d1f46a4f20086141e0428ccc9c6d644aacbfd30990cf46886/googletrans-2.4.0.tar.gz\n",
            "Requirement already satisfied: requests in /usr/local/lib/python3.6/dist-packages (from googletrans) (2.23.0)\n",
            "Requirement already satisfied: chardet<4,>=3.0.2 in /usr/local/lib/python3.6/dist-packages (from requests->googletrans) (3.0.4)\n",
            "Requirement already satisfied: certifi>=2017.4.17 in /usr/local/lib/python3.6/dist-packages (from requests->googletrans) (2020.4.5.1)\n",
            "Requirement already satisfied: urllib3!=1.25.0,!=1.25.1,<1.26,>=1.21.1 in /usr/local/lib/python3.6/dist-packages (from requests->googletrans) (1.24.3)\n",
            "Requirement already satisfied: idna<3,>=2.5 in /usr/local/lib/python3.6/dist-packages (from requests->googletrans) (2.9)\n",
            "Building wheels for collected packages: googletrans\n",
            "  Building wheel for googletrans (setup.py) ... \u001b[?25l\u001b[?25hdone\n",
            "  Created wheel for googletrans: filename=googletrans-2.4.0-cp36-none-any.whl size=15777 sha256=4c979dfeb6d001e3edc344d8c62268049bca3ccfd45bbf9fca36eff3250e91d6\n",
            "  Stored in directory: /root/.cache/pip/wheels/50/d6/e7/a8efd5f2427d5eb258070048718fa56ee5ac57fd6f53505f95\n",
            "Successfully built googletrans\n",
            "Installing collected packages: googletrans\n",
            "Successfully installed googletrans-2.4.0\n"
          ],
          "name": "stdout"
        }
      ]
    },
    {
      "cell_type": "code",
      "metadata": {
        "id": "HhMwQdSbXuvA",
        "colab_type": "code",
        "colab": {
          "base_uri": "https://localhost:8080/",
          "height": 89
        },
        "outputId": "57119a28-e5e4-416e-ecfa-29dc7ae4c074"
      },
      "source": [
        "#Import all prerequisite libraries\n",
        "import pandas as pd\n",
        "import matplotlib.pyplot as plt\n",
        "import seaborn as sns\n",
        "import numpy as np\n",
        "\n",
        "import os\n",
        "\n",
        "from sklearn.model_selection import train_test_split, GridSearchCV\n",
        "from sklearn.cluster import MiniBatchKMeans, KMeans\n",
        "from sklearn.decomposition import PCA\n",
        "from sklearn.feature_extraction.text import CountVectorizer, TfidfTransformer, TfidfVectorizer\n",
        "from sklearn import preprocessing \n",
        "from sklearn.naive_bayes import MultinomialNB\n",
        "from sklearn.metrics  import accuracy_score, classification_report, confusion_matrix, homogeneity_score, silhouette_score, roc_auc_score, precision_score, recall_score, roc_curve, auc\n",
        "from sklearn import model_selection, svm\n",
        "\n",
        "from xgboost import XGBClassifier\n",
        "\n",
        "from keras.models import Sequential\n",
        "from keras.layers import Dense, Embedding, LSTM, Dropout, Bidirectional, GlobalMaxPool1D, SpatialDropout1D, GRU\n",
        "from keras.utils.np_utils import to_categorical\n",
        "from keras.preprocessing.text import Tokenizer\n",
        "from keras.preprocessing.sequence import pad_sequences\n",
        "\n",
        "from collections import OrderedDict, Counter\n",
        "\n",
        "import re\n",
        "\n",
        "import string\n",
        "from string import punctuation as punc\n",
        "\n",
        "import nltk\n",
        "from nltk.corpus import stopwords\n",
        "from nltk.tokenize import word_tokenize\n",
        "from nltk.util import ngrams\n",
        "from nltk.util import ngrams\n",
        "\n",
        "from wordcloud import WordCloud, STOPWORDS \n",
        "\n",
        "from textblob import TextBlob\n",
        "from tqdm import tqdm\n",
        "\n",
        "from spacy.lang.en import English\n",
        "\n",
        "import googletrans\n",
        "from googletrans import Translator\n",
        "\n",
        "from langdetect import detect, DetectorFactory\n",
        "\n",
        "from google.colab import drive\n",
        "\n",
        "import warnings\n",
        "warnings.filterwarnings('ignore')\n",
        "\n",
        "%matplotlib inline"
      ],
      "execution_count": 2,
      "outputs": [
        {
          "output_type": "stream",
          "text": [
            "/usr/local/lib/python3.6/dist-packages/statsmodels/tools/_testing.py:19: FutureWarning: pandas.util.testing is deprecated. Use the functions in the public API at pandas.testing instead.\n",
            "  import pandas.util.testing as tm\n",
            "Using TensorFlow backend.\n"
          ],
          "name": "stderr"
        }
      ]
    },
    {
      "cell_type": "code",
      "metadata": {
        "id": "qJpdRKlUYS-n",
        "colab_type": "code",
        "colab": {
          "base_uri": "https://localhost:8080/",
          "height": 124
        },
        "outputId": "7268a538-768a-423b-c3e2-e82eab30a0be"
      },
      "source": [
        "drive.mount('/content/drive/')"
      ],
      "execution_count": 4,
      "outputs": [
        {
          "output_type": "stream",
          "text": [
            "Go to this URL in a browser: https://accounts.google.com/o/oauth2/auth?client_id=947318989803-6bn6qk8qdgf4n4g3pfee6491hc0brc4i.apps.googleusercontent.com&redirect_uri=urn%3aietf%3awg%3aoauth%3a2.0%3aoob&response_type=code&scope=email%20https%3a%2f%2fwww.googleapis.com%2fauth%2fdocs.test%20https%3a%2f%2fwww.googleapis.com%2fauth%2fdrive%20https%3a%2f%2fwww.googleapis.com%2fauth%2fdrive.photos.readonly%20https%3a%2f%2fwww.googleapis.com%2fauth%2fpeopleapi.readonly\n",
            "\n",
            "Enter your authorization code:\n",
            "··········\n",
            "Mounted at /content/drive/\n"
          ],
          "name": "stdout"
        }
      ]
    },
    {
      "cell_type": "code",
      "metadata": {
        "id": "sqm7mPK2Y718",
        "colab_type": "code",
        "colab": {}
      },
      "source": [
        "project_path = '/content/drive/My Drive/Colab Notebooks/Capstone Project IT Helpdesk Ticket Optimization'\n",
        "os.chdir(project_path)"
      ],
      "execution_count": 0,
      "outputs": []
    },
    {
      "cell_type": "code",
      "metadata": {
        "id": "OPzanTjAZlAI",
        "colab_type": "code",
        "colab": {}
      },
      "source": [
        "df = pd.read_excel('input_data.xlsx')"
      ],
      "execution_count": 0,
      "outputs": []
    },
    {
      "cell_type": "code",
      "metadata": {
        "id": "zHP607_QZtl9",
        "colab_type": "code",
        "colab": {}
      },
      "source": [
        ""
      ],
      "execution_count": 0,
      "outputs": []
    },
    {
      "cell_type": "markdown",
      "metadata": {
        "id": "0sKDF5SOZ91q",
        "colab_type": "text"
      },
      "source": [
        "Let us try to understand the data"
      ]
    },
    {
      "cell_type": "code",
      "metadata": {
        "id": "oJNadCNhaDM1",
        "colab_type": "code",
        "colab": {
          "base_uri": "https://localhost:8080/",
          "height": 202
        },
        "outputId": "c0ec2b4f-9a5a-44e8-d9a0-cbbe2265c95e"
      },
      "source": [
        "df.head()"
      ],
      "execution_count": 9,
      "outputs": [
        {
          "output_type": "execute_result",
          "data": {
            "text/html": [
              "<div>\n",
              "<style scoped>\n",
              "    .dataframe tbody tr th:only-of-type {\n",
              "        vertical-align: middle;\n",
              "    }\n",
              "\n",
              "    .dataframe tbody tr th {\n",
              "        vertical-align: top;\n",
              "    }\n",
              "\n",
              "    .dataframe thead th {\n",
              "        text-align: right;\n",
              "    }\n",
              "</style>\n",
              "<table border=\"1\" class=\"dataframe\">\n",
              "  <thead>\n",
              "    <tr style=\"text-align: right;\">\n",
              "      <th></th>\n",
              "      <th>Short description</th>\n",
              "      <th>Description</th>\n",
              "      <th>Caller</th>\n",
              "      <th>Assignment group</th>\n",
              "    </tr>\n",
              "  </thead>\n",
              "  <tbody>\n",
              "    <tr>\n",
              "      <th>0</th>\n",
              "      <td>login issue</td>\n",
              "      <td>-verified user details.(employee# &amp; manager na...</td>\n",
              "      <td>spxjnwir pjlcoqds</td>\n",
              "      <td>GRP_0</td>\n",
              "    </tr>\n",
              "    <tr>\n",
              "      <th>1</th>\n",
              "      <td>outlook</td>\n",
              "      <td>\\r\\n\\r\\nreceived from: hmjdrvpb.komuaywn@gmail...</td>\n",
              "      <td>hmjdrvpb komuaywn</td>\n",
              "      <td>GRP_0</td>\n",
              "    </tr>\n",
              "    <tr>\n",
              "      <th>2</th>\n",
              "      <td>cant log in to vpn</td>\n",
              "      <td>\\r\\n\\r\\nreceived from: eylqgodm.ybqkwiam@gmail...</td>\n",
              "      <td>eylqgodm ybqkwiam</td>\n",
              "      <td>GRP_0</td>\n",
              "    </tr>\n",
              "    <tr>\n",
              "      <th>3</th>\n",
              "      <td>unable to access hr_tool page</td>\n",
              "      <td>unable to access hr_tool page</td>\n",
              "      <td>xbkucsvz gcpydteq</td>\n",
              "      <td>GRP_0</td>\n",
              "    </tr>\n",
              "    <tr>\n",
              "      <th>4</th>\n",
              "      <td>skype error</td>\n",
              "      <td>skype error</td>\n",
              "      <td>owlgqjme qhcozdfx</td>\n",
              "      <td>GRP_0</td>\n",
              "    </tr>\n",
              "  </tbody>\n",
              "</table>\n",
              "</div>"
            ],
            "text/plain": [
              "               Short description  ... Assignment group\n",
              "0                    login issue  ...            GRP_0\n",
              "1                        outlook  ...            GRP_0\n",
              "2             cant log in to vpn  ...            GRP_0\n",
              "3  unable to access hr_tool page  ...            GRP_0\n",
              "4                   skype error   ...            GRP_0\n",
              "\n",
              "[5 rows x 4 columns]"
            ]
          },
          "metadata": {
            "tags": []
          },
          "execution_count": 9
        }
      ]
    },
    {
      "cell_type": "code",
      "metadata": {
        "id": "NqYA3fnWaD_4",
        "colab_type": "code",
        "colab": {
          "base_uri": "https://localhost:8080/",
          "height": 208
        },
        "outputId": "a354b394-be46-4138-ba49-bb95df4d465e"
      },
      "source": [
        "df.info()"
      ],
      "execution_count": 10,
      "outputs": [
        {
          "output_type": "stream",
          "text": [
            "<class 'pandas.core.frame.DataFrame'>\n",
            "RangeIndex: 8500 entries, 0 to 8499\n",
            "Data columns (total 4 columns):\n",
            " #   Column             Non-Null Count  Dtype \n",
            "---  ------             --------------  ----- \n",
            " 0   Short description  8492 non-null   object\n",
            " 1   Description        8499 non-null   object\n",
            " 2   Caller             8500 non-null   object\n",
            " 3   Assignment group   8500 non-null   object\n",
            "dtypes: object(4)\n",
            "memory usage: 265.8+ KB\n"
          ],
          "name": "stdout"
        }
      ]
    },
    {
      "cell_type": "code",
      "metadata": {
        "id": "hyQ9osQjaI8l",
        "colab_type": "code",
        "colab": {
          "base_uri": "https://localhost:8080/",
          "height": 52
        },
        "outputId": "7eb43b77-d3aa-4bc3-b759-781b20be4d6e"
      },
      "source": [
        "# Find index of NaN values\n",
        "SD_nan_index = df.loc[pd.isna(df[\"Short description\"]), :].index\n",
        "Desc_nan_index = df.loc[pd.isna(df['Description']),:].index\n",
        "print('Short description null at index ', SD_nan_index)\n",
        "print('Short description null at index ', Desc_nan_index)"
      ],
      "execution_count": 11,
      "outputs": [
        {
          "output_type": "stream",
          "text": [
            "Short description null at index  Int64Index([2604, 3383, 3906, 3910, 3915, 3921, 3924, 4341], dtype='int64')\n",
            "Short description null at index  Int64Index([4395], dtype='int64')\n"
          ],
          "name": "stdout"
        }
      ]
    },
    {
      "cell_type": "code",
      "metadata": {
        "id": "fQIgBRH9aVCm",
        "colab_type": "code",
        "colab": {}
      },
      "source": [
        "#Converting all rows to String \n",
        "df['Short description']=df['Short description'].apply(str)\n",
        "df['Description']=df['Description'].apply(str)\n",
        "df['Caller']=df['Caller'].apply(str)"
      ],
      "execution_count": 0,
      "outputs": []
    },
    {
      "cell_type": "code",
      "metadata": {
        "id": "Ap0pbpczacDZ",
        "colab_type": "code",
        "colab": {}
      },
      "source": [
        ""
      ],
      "execution_count": 0,
      "outputs": []
    },
    {
      "cell_type": "markdown",
      "metadata": {
        "id": "daJSquNxagHD",
        "colab_type": "text"
      },
      "source": [
        "EDA - Let's Visualize the Data distributrion"
      ]
    },
    {
      "cell_type": "code",
      "metadata": {
        "id": "47O0S0ylammT",
        "colab_type": "code",
        "colab": {}
      },
      "source": [
        "#Looking into featurewise distribution"
      ],
      "execution_count": 0,
      "outputs": []
    },
    {
      "cell_type": "code",
      "metadata": {
        "id": "4PBHbNS2awyp",
        "colab_type": "code",
        "colab": {}
      },
      "source": [
        "#Start with Dataset Distribution by \"Ässignment Group\" Column"
      ],
      "execution_count": 0,
      "outputs": []
    },
    {
      "cell_type": "code",
      "metadata": {
        "id": "RNEz_9j3bJL_",
        "colab_type": "code",
        "colab": {
          "base_uri": "https://localhost:8080/",
          "height": 1000
        },
        "outputId": "0a46e7f5-db96-47b3-cc46-7605c2b28b91"
      },
      "source": [
        "fig, (ax1) = plt.subplots(1,1, figsize=(20,18))\n",
        "\n",
        "\n",
        "x = df['Assignment group'].value_counts()\n",
        "sns.barplot(x, x.index, ax=ax1)\n",
        "plt.title('Total Counts of each Assignment Groups ')\n",
        "plt.gca().set_xlabel('Count of Groups',fontsize=15)\n",
        "plt.gca().set_ylabel('Assignment Groups',fontsize=15)"
      ],
      "execution_count": 17,
      "outputs": [
        {
          "output_type": "execute_result",
          "data": {
            "text/plain": [
              "Text(0, 0.5, 'Assignment Groups')"
            ]
          },
          "metadata": {
            "tags": []
          },
          "execution_count": 17
        },
        {
          "output_type": "display_data",
          "data": {
            "image/png": "[encoded data removed]",
            "text/plain": [
              "<Figure size 1440x1296 with 1 Axes>"
            ]
          },
          "metadata": {
            "tags": [],
            "needs_background": "light"
          }
        }
      ]
    },
    {
      "cell_type": "code",
      "metadata": {
        "id": "4iC6rvngbNvz",
        "colab_type": "code",
        "colab": {}
      },
      "source": [
        "#Group Zero - GP_0 has the maximum no of entries for Assignment Group column"
      ],
      "execution_count": 0,
      "outputs": []
    },
    {
      "cell_type": "code",
      "metadata": {
        "id": "kfP9LWRrcE96",
        "colab_type": "code",
        "colab": {}
      },
      "source": [
        "#Now lets check how data is distribution for Column \"Caller\""
      ],
      "execution_count": 0,
      "outputs": []
    },
    {
      "cell_type": "code",
      "metadata": {
        "id": "UT6F0iNdcRMF",
        "colab_type": "code",
        "colab": {
          "base_uri": "https://localhost:8080/",
          "height": 645
        },
        "outputId": "2a7c6f43-736d-4aec-ab35-681649661c93"
      },
      "source": [
        "fig, (ax1) = plt.subplots(1,1, figsize=(15,10))\n",
        "\n",
        "x = df.groupby(['Caller']).size().sort_values(ascending=False).head(20)\n",
        "sns.barplot(x, x.index, ax=ax1)\n",
        "plt.title('Total counts of different Callers')\n",
        "plt.gca().set_xlabel('Count of Callers',fontsize=15)\n",
        "plt.gca().set_ylabel('Callers',fontsize=15)"
      ],
      "execution_count": 20,
      "outputs": [
        {
          "output_type": "execute_result",
          "data": {
            "text/plain": [
              "Text(0, 0.5, 'Callers')"
            ]
          },
          "metadata": {
            "tags": []
          },
          "execution_count": 20
        },
        {
          "output_type": "display_data",
          "data": {
            "image/png": "[encoded data removed]",
            "text/plain": [
              "<Figure size 1080x720 with 1 Axes>"
            ]
          },
          "metadata": {
            "tags": [],
            "needs_background": "light"
          }
        }
      ]
    },
    {
      "cell_type": "code",
      "metadata": {
        "id": "FgWjpENicVV9",
        "colab_type": "code",
        "colab": {}
      },
      "source": [
        "#Now for the caller with Maximum Values check how the relationship with Assignment Group"
      ],
      "execution_count": 0,
      "outputs": []
    },
    {
      "cell_type": "code",
      "metadata": {
        "id": "OETp5quocj9Z",
        "colab_type": "code",
        "colab": {
          "base_uri": "https://localhost:8080/",
          "height": 312
        },
        "outputId": "ebfc14a6-1bac-41be-8199-89fea23ecd5e"
      },
      "source": [
        "df[df['Caller']=='bpctwhsn kzqsbmtp']['Assignment group'].value_counts()"
      ],
      "execution_count": 22,
      "outputs": [
        {
          "output_type": "execute_result",
          "data": {
            "text/plain": [
              "GRP_8     362\n",
              "GRP_9     153\n",
              "GRP_5      96\n",
              "GRP_6      89\n",
              "GRP_10     60\n",
              "GRP_60     16\n",
              "GRP_12      8\n",
              "GRP_45      7\n",
              "GRP_1       6\n",
              "GRP_13      4\n",
              "GRP_18      3\n",
              "GRP_47      2\n",
              "GRP_57      1\n",
              "GRP_14      1\n",
              "GRP_44      1\n",
              "GRP_29      1\n",
              "Name: Assignment group, dtype: int64"
            ]
          },
          "metadata": {
            "tags": []
          },
          "execution_count": 22
        }
      ]
    },
    {
      "cell_type": "code",
      "metadata": {
        "id": "menVafSzcoAZ",
        "colab_type": "code",
        "colab": {}
      },
      "source": [
        "#Now check by Short Description and Assignment Group"
      ],
      "execution_count": 0,
      "outputs": []
    },
    {
      "cell_type": "code",
      "metadata": {
        "id": "P7xW66kWc9c9",
        "colab_type": "code",
        "colab": {
          "base_uri": "https://localhost:8080/",
          "height": 173
        },
        "outputId": "769b8062-76f0-4448-e593-0df5f4120386"
      },
      "source": [
        "#Distribution by ShortDescription and Group GRP_8\n",
        "dfSDG = df.groupby(['Short description','Assignment group']).size().sort_values(ascending=False).reset_index()\n",
        "\n",
        "dfSDG[dfSDG['Assignment group']=='GRP_8']['Short description'].head(8)"
      ],
      "execution_count": 24,
      "outputs": [
        {
          "output_type": "execute_result",
          "data": {
            "text/plain": [
              "45     job Job_3028 failed in job_scheduler at: 08/24...\n",
              "115                abended job in job_scheduler: Job_593\n",
              "138    job Job_549 failed in job_scheduler at: 10/07/...\n",
              "157    abended job in job_scheduler: bkbackup_tool_re...\n",
              "160    abended job in job_scheduler: bk_hana_SID_62_e...\n",
              "161    abended job in job_scheduler: bk_hana_SID_62_e...\n",
              "166    job Job_749 failed in job_scheduler at: 08/27/...\n",
              "167    job SID_41arc2 failed in job_scheduler at: 08/...\n",
              "Name: Short description, dtype: object"
            ]
          },
          "metadata": {
            "tags": []
          },
          "execution_count": 24
        }
      ]
    },
    {
      "cell_type": "code",
      "metadata": {
        "id": "56AvxmSfc-Ng",
        "colab_type": "code",
        "colab": {}
      },
      "source": [
        "#Distribution by Assignment group and Short Description"
      ],
      "execution_count": 0,
      "outputs": []
    },
    {
      "cell_type": "code",
      "metadata": {
        "id": "clA91jkydTqM",
        "colab_type": "code",
        "colab": {
          "base_uri": "https://localhost:8080/",
          "height": 173
        },
        "outputId": "775f1657-2d80-42af-a9d6-67232e06d99e"
      },
      "source": [
        "#Group by ShortDescription and Group GRP_9\n",
        "dfSDG = df.groupby(['Short description','Assignment group']).size().sort_values(ascending=False).reset_index()\n",
        "\n",
        "dfSDG[dfSDG['Assignment group']=='GRP_9']['Short description'].head(8)"
      ],
      "execution_count": 26,
      "outputs": [
        {
          "output_type": "execute_result",
          "data": {
            "text/plain": [
              "52     abended job in job_scheduler: Job_1148\n",
              "55     abended job in job_scheduler: Job_1141\n",
              "92     abended job in job_scheduler: Job_1320\n",
              "104    abended job in job_scheduler: Job_1142\n",
              "113    abended job in job_scheduler: Job_2114\n",
              "207    abended job in job_scheduler: Job_1305\n",
              "243               update of ae to bw and hana\n",
              "519                           issue with bobj\n",
              "Name: Short description, dtype: object"
            ]
          },
          "metadata": {
            "tags": []
          },
          "execution_count": 26
        }
      ]
    },
    {
      "cell_type": "code",
      "metadata": {
        "id": "hiJ4Ik6Hd8oF",
        "colab_type": "code",
        "colab": {}
      },
      "source": [
        ""
      ],
      "execution_count": 0,
      "outputs": []
    },
    {
      "cell_type": "markdown",
      "metadata": {
        "id": "lXXVFhBDeC_W",
        "colab_type": "text"
      },
      "source": [
        "**Dataset Distribution by \"Short Description\"**"
      ]
    },
    {
      "cell_type": "code",
      "metadata": {
        "id": "yMeHF06_eI0l",
        "colab_type": "code",
        "colab": {
          "base_uri": "https://localhost:8080/",
          "height": 621
        },
        "outputId": "e81466d6-7f88-4de0-c6c3-9f3e3178d7e8"
      },
      "source": [
        "\n",
        "\n",
        "fig, (ax1) = plt.subplots(1,1, figsize=(10,10))\n",
        "x = df['Short description'].value_counts()[:20]\n",
        "sns.barplot(x, x.index, ax=ax1)\n",
        "plt.title('Total counts of specific Short Descs')\n",
        "plt.gca().set_xlabel('Count of Short Desc')\n",
        "plt.gca().set_ylabel('Short Desc')\n",
        "\n",
        "plt.show()"
      ],
      "execution_count": 29,
      "outputs": [
        {
          "output_type": "display_data",
          "data": {
            "image/png": "[encoded data removed]",
            "text/plain": [
              "<Figure size 720x720 with 1 Axes>"
            ]
          },
          "metadata": {
            "tags": [],
            "needs_background": "light"
          }
        }
      ]
    },
    {
      "cell_type": "code",
      "metadata": {
        "id": "IJDE1c7UeOWg",
        "colab_type": "code",
        "colab": {}
      },
      "source": [
        ""
      ],
      "execution_count": 0,
      "outputs": []
    },
    {
      "cell_type": "markdown",
      "metadata": {
        "id": "byx-s5sNeg4L",
        "colab_type": "text"
      },
      "source": [
        "Moving onto Feature Engineering and EDA"
      ]
    },
    {
      "cell_type": "code",
      "metadata": {
        "id": "umxBmNEpenHN",
        "colab_type": "code",
        "colab": {}
      },
      "source": [
        "df_en = df.copy()"
      ],
      "execution_count": 0,
      "outputs": []
    },
    {
      "cell_type": "code",
      "metadata": {
        "id": "hfuGZBA5epUy",
        "colab_type": "code",
        "colab": {
          "base_uri": "https://localhost:8080/",
          "height": 202
        },
        "outputId": "63da2f06-2155-43c0-b386-677166af64aa"
      },
      "source": [
        "df_en.head()"
      ],
      "execution_count": 31,
      "outputs": [
        {
          "output_type": "execute_result",
          "data": {
            "text/html": [
              "<div>\n",
              "<style scoped>\n",
              "    .dataframe tbody tr th:only-of-type {\n",
              "        vertical-align: middle;\n",
              "    }\n",
              "\n",
              "    .dataframe tbody tr th {\n",
              "        vertical-align: top;\n",
              "    }\n",
              "\n",
              "    .dataframe thead th {\n",
              "        text-align: right;\n",
              "    }\n",
              "</style>\n",
              "<table border=\"1\" class=\"dataframe\">\n",
              "  <thead>\n",
              "    <tr style=\"text-align: right;\">\n",
              "      <th></th>\n",
              "      <th>Short description</th>\n",
              "      <th>Description</th>\n",
              "      <th>Caller</th>\n",
              "      <th>Assignment group</th>\n",
              "    </tr>\n",
              "  </thead>\n",
              "  <tbody>\n",
              "    <tr>\n",
              "      <th>0</th>\n",
              "      <td>login issue</td>\n",
              "      <td>-verified user details.(employee# &amp; manager na...</td>\n",
              "      <td>spxjnwir pjlcoqds</td>\n",
              "      <td>GRP_0</td>\n",
              "    </tr>\n",
              "    <tr>\n",
              "      <th>1</th>\n",
              "      <td>outlook</td>\n",
              "      <td>\\r\\n\\r\\nreceived from: hmjdrvpb.komuaywn@gmail...</td>\n",
              "      <td>hmjdrvpb komuaywn</td>\n",
              "      <td>GRP_0</td>\n",
              "    </tr>\n",
              "    <tr>\n",
              "      <th>2</th>\n",
              "      <td>cant log in to vpn</td>\n",
              "      <td>\\r\\n\\r\\nreceived from: eylqgodm.ybqkwiam@gmail...</td>\n",
              "      <td>eylqgodm ybqkwiam</td>\n",
              "      <td>GRP_0</td>\n",
              "    </tr>\n",
              "    <tr>\n",
              "      <th>3</th>\n",
              "      <td>unable to access hr_tool page</td>\n",
              "      <td>unable to access hr_tool page</td>\n",
              "      <td>xbkucsvz gcpydteq</td>\n",
              "      <td>GRP_0</td>\n",
              "    </tr>\n",
              "    <tr>\n",
              "      <th>4</th>\n",
              "      <td>skype error</td>\n",
              "      <td>skype error</td>\n",
              "      <td>owlgqjme qhcozdfx</td>\n",
              "      <td>GRP_0</td>\n",
              "    </tr>\n",
              "  </tbody>\n",
              "</table>\n",
              "</div>"
            ],
            "text/plain": [
              "               Short description  ... Assignment group\n",
              "0                    login issue  ...            GRP_0\n",
              "1                        outlook  ...            GRP_0\n",
              "2             cant log in to vpn  ...            GRP_0\n",
              "3  unable to access hr_tool page  ...            GRP_0\n",
              "4                   skype error   ...            GRP_0\n",
              "\n",
              "[5 rows x 4 columns]"
            ]
          },
          "metadata": {
            "tags": []
          },
          "execution_count": 31
        }
      ]
    },
    {
      "cell_type": "code",
      "metadata": {
        "id": "GhMCGXJ4etdv",
        "colab_type": "code",
        "colab": {}
      },
      "source": [
        "#Convert all rows into String \n",
        "df_en['Short description']=df_en['Short description'].apply(str)\n",
        "df_en['Description']=df_en['Description'].apply(str)\n",
        "df_en['Caller']=df_en['Caller'].apply(str)"
      ],
      "execution_count": 0,
      "outputs": []
    },
    {
      "cell_type": "markdown",
      "metadata": {
        "id": "UkqUM3tIe5X0",
        "colab_type": "text"
      },
      "source": [
        "Now we have to clean the data , As you can see there is caller email id/ caller name  in description column let us remove it and clean"
      ]
    },
    {
      "cell_type": "code",
      "metadata": {
        "id": "d_-DuHYue2HB",
        "colab_type": "code",
        "colab": {}
      },
      "source": [
        "caller_list = df_en[\"Caller\"].str.split(\" \", n = 1, expand = True)\n",
        "\n",
        "caller_fname = caller_list[0]\n",
        "caller_lname = caller_list[1]\n",
        "\n",
        "caller_fname_list = caller_fname.to_list()\n",
        "caller_lname_list = caller_lname.to_list()\n",
        "\n",
        "df_en.Description = df_en.Description.apply(lambda x: ' '.join([word for word in x.split() if word not in caller_fname_list]))\n",
        "df_en.Description = df_en.Description.apply(lambda x: ' '.join([word for word in x.split() if word not in caller_lname_list]))"
      ],
      "execution_count": 0,
      "outputs": []
    },
    {
      "cell_type": "code",
      "metadata": {
        "id": "66XFm4HNfOC9",
        "colab_type": "code",
        "colab": {}
      },
      "source": [
        "#Now lets create a new column called Complete Description , combining all 3 independent attributes into 1\n",
        "df_en['Complete_Description'] = df_en['Short description'].str.cat(df_en['Description'],sep=\" \")"
      ],
      "execution_count": 0,
      "outputs": []
    },
    {
      "cell_type": "code",
      "metadata": {
        "id": "JI0PEGyrfxcz",
        "colab_type": "code",
        "colab": {}
      },
      "source": [
        "#Remove non consecutive duplicates\n",
        "df_en['Complete_Description'] = (df_en['Complete_Description'].str.split().apply(lambda x: OrderedDict.fromkeys(x).keys()).str.join(' '))"
      ],
      "execution_count": 0,
      "outputs": []
    },
    {
      "cell_type": "code",
      "metadata": {
        "id": "ip45TUkHf062",
        "colab_type": "code",
        "colab": {
          "base_uri": "https://localhost:8080/",
          "height": 241
        },
        "outputId": "fc9b19ae-765b-43bb-e4d5-c45639b10462"
      },
      "source": [
        "#After cleaning and creating a new column by combining the 3 attributes, see how your data looks \n",
        "df_en.head(4)"
      ],
      "execution_count": 38,
      "outputs": [
        {
          "output_type": "execute_result",
          "data": {
            "text/html": [
              "<div>\n",
              "<style scoped>\n",
              "    .dataframe tbody tr th:only-of-type {\n",
              "        vertical-align: middle;\n",
              "    }\n",
              "\n",
              "    .dataframe tbody tr th {\n",
              "        vertical-align: top;\n",
              "    }\n",
              "\n",
              "    .dataframe thead th {\n",
              "        text-align: right;\n",
              "    }\n",
              "</style>\n",
              "<table border=\"1\" class=\"dataframe\">\n",
              "  <thead>\n",
              "    <tr style=\"text-align: right;\">\n",
              "      <th></th>\n",
              "      <th>Short description</th>\n",
              "      <th>Description</th>\n",
              "      <th>Caller</th>\n",
              "      <th>Assignment group</th>\n",
              "      <th>Complete_Description</th>\n",
              "    </tr>\n",
              "  </thead>\n",
              "  <tbody>\n",
              "    <tr>\n",
              "      <th>0</th>\n",
              "      <td>login issue</td>\n",
              "      <td>-verified user details.(employee# &amp; manager na...</td>\n",
              "      <td>spxjnwir pjlcoqds</td>\n",
              "      <td>GRP_0</td>\n",
              "      <td>login issue -verified user details.(employee# ...</td>\n",
              "    </tr>\n",
              "    <tr>\n",
              "      <th>1</th>\n",
              "      <td>outlook</td>\n",
              "      <td>received from: hmjdrvpb.komuaywn@gmail.com hel...</td>\n",
              "      <td>hmjdrvpb komuaywn</td>\n",
              "      <td>GRP_0</td>\n",
              "      <td>outlook received from: hmjdrvpb.komuaywn@gmail...</td>\n",
              "    </tr>\n",
              "    <tr>\n",
              "      <th>2</th>\n",
              "      <td>cant log in to vpn</td>\n",
              "      <td>received from: eylqgodm.ybqkwiam@gmail.com hi ...</td>\n",
              "      <td>eylqgodm ybqkwiam</td>\n",
              "      <td>GRP_0</td>\n",
              "      <td>cant log in to vpn received from: eylqgodm.ybq...</td>\n",
              "    </tr>\n",
              "    <tr>\n",
              "      <th>3</th>\n",
              "      <td>unable to access hr_tool page</td>\n",
              "      <td>unable to access hr_tool page</td>\n",
              "      <td>xbkucsvz gcpydteq</td>\n",
              "      <td>GRP_0</td>\n",
              "      <td>unable to access hr_tool page</td>\n",
              "    </tr>\n",
              "  </tbody>\n",
              "</table>\n",
              "</div>"
            ],
            "text/plain": [
              "               Short description  ...                               Complete_Description\n",
              "0                    login issue  ...  login issue -verified user details.(employee# ...\n",
              "1                        outlook  ...  outlook received from: hmjdrvpb.komuaywn@gmail...\n",
              "2             cant log in to vpn  ...  cant log in to vpn received from: eylqgodm.ybq...\n",
              "3  unable to access hr_tool page  ...                      unable to access hr_tool page\n",
              "\n",
              "[4 rows x 5 columns]"
            ]
          },
          "metadata": {
            "tags": []
          },
          "execution_count": 38
        }
      ]
    },
    {
      "cell_type": "code",
      "metadata": {
        "id": "CeCFFUxEf3_l",
        "colab_type": "code",
        "colab": {}
      },
      "source": [
        ""
      ],
      "execution_count": 0,
      "outputs": []
    }
  ]
}